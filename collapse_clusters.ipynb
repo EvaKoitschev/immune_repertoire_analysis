{
 "cells": [
  {
   "cell_type": "code",
   "execution_count": 3,
   "metadata": {},
   "outputs": [],
   "source": [
    "import pandas as pd\n",
    "import networkx as nx\n"
   ]
  },
  {
   "cell_type": "code",
   "execution_count": 4,
   "metadata": {},
   "outputs": [],
   "source": [
    "# load tsv file of all convergent clusters\n",
    "convergent_clones = pd.read_csv('/mnt/susanne/datasets/convergence/clusters.tsv', sep='\\t')\n",
    "\n"
   ]
  },
  {
   "cell_type": "code",
   "execution_count": 5,
   "metadata": {},
   "outputs": [],
   "source": [
    "# get the list of distinct cluster ids\n",
    "cluster_ids = convergent_clones['unique_convergent_clone_id'].unique()\n",
    "# group by convergent_clones by sequence_id and keep only those with more than one cluster\n",
    "convergent_clones = convergent_clones.groupby('sequence_id').filter(lambda x: len(x) > 1)\n",
    "# group convergent clones by sequence_id and for each group, get the set of unique_convergent_clone_id's and add them to a list\n",
    "lists = convergent_clones.groupby('sequence_id')['unique_convergent_clone_id'].unique()\n",
    "# get the unique lists\n",
    "lists = lists.apply(tuple)\n",
    "unique_lists = set(lists)\n"
   ]
  },
  {
   "cell_type": "code",
   "execution_count": 6,
   "metadata": {},
   "outputs": [
    {
     "name": "stdout",
     "output_type": "stream",
     "text": [
      "1045739\n",
      "116455\n"
     ]
    }
   ],
   "source": [
    "# convert the tuples to lists and the set to a list\n",
    "unique_lists = list(unique_lists)\n",
    "unique_lists = [list(x) for x in unique_lists]\n",
    "\n",
    "# create a graph with networkx\n",
    "G = nx.Graph()\n",
    "# add cluster ids as nodes\n",
    "G.add_nodes_from(cluster_ids)\n",
    "# add edges between the clusters in each row in shared_seqs (clone_list)\n",
    "for i, clone_list in enumerate(unique_lists):\n",
    "\tfor i in range(len(clone_list)):\n",
    "\t\tfor j in range(i+1, len(clone_list)):\n",
    "\t\t\tG.add_edge(clone_list[i], clone_list[j])\n",
    "\n",
    "# get some basic information about the graph\n",
    "print(G.number_of_nodes())\n",
    "print(G.number_of_edges())"
   ]
  },
  {
   "cell_type": "code",
   "execution_count": 8,
   "metadata": {},
   "outputs": [],
   "source": [
    "# get the connected components of the graph\n",
    "connected_components = list(nx.connected_components(G))\n",
    "# make each list of connected components a set and convert it to a comma separated string\n",
    "connected_components = [','.join(map(str, x)) for x in connected_components]\n",
    "# save the connected components to a file using pandas\n",
    "df = pd.DataFrame({'connected_components': connected_components})\n",
    "df.to_csv('/mnt/susanne/datasets/convergence/connected_components.tsv', sep='\\t', index=False, header=False)"
   ]
  }
 ],
 "metadata": {
  "kernelspec": {
   "display_name": "Python 3",
   "language": "python",
   "name": "python3"
  },
  "language_info": {
   "codemirror_mode": {
    "name": "ipython",
    "version": 3
   },
   "file_extension": ".py",
   "mimetype": "text/x-python",
   "name": "python",
   "nbconvert_exporter": "python",
   "pygments_lexer": "ipython3",
   "version": "3.8.10"
  }
 },
 "nbformat": 4,
 "nbformat_minor": 2
}
